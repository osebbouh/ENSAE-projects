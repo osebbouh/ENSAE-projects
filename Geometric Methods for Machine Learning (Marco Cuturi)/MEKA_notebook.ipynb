{
 "cells": [
  {
   "cell_type": "markdown",
   "metadata": {},
   "source": [
    "# [Geometric Methods for Machine Learning](http://marcocuturi.net/)\n",
    "## _Memory Efficient Kernel Approximation_. Si Si, Cho-Jui Hsieh, Inderjit S. Dhillon (2017)\n",
    "_Chloé Baraille, Othmane Sebbouh_"
   ]
  },
  {
   "cell_type": "markdown",
   "metadata": {},
   "source": [
    "In this notebook, We implement the method developed in the article _Si et al. (2017)_ called **Memory Efficient Kernel Approximation (MEKA)**. It consists of a new method for low rank kernel factorization, which succeeds to achieve lower approximation errors compared to state of the art methods like the standard **Nyström method**, while being faster and using less memory.\n",
    "\n",
    "This notebook is organized in two parts.\n",
    "- In the first part, we implement the standard Nyström method and MEKA for kernel factorization.\n",
    "- In the second, we compare the performance of these two methods on different grounds: robustness to the scaling parameter and to the number of clusters (for MEKA), time and memory efficiency, kernel-SVM accuracy."
   ]
  },
  {
   "cell_type": "code",
   "execution_count": 1,
   "metadata": {},
   "outputs": [],
   "source": [
    "%matplotlib inline\n",
    "\n",
    "import matplotlib.pyplot as plt\n",
    "import numpy as np\n",
    "import pandas as pd\n",
    "import tick\n",
    "from scipy.linalg import norm, block_diag\n",
    "from scipy import sparse\n",
    "\n",
    "import numpy.linalg as LA\n",
    "from sklearn.metrics.pairwise import rbf_kernel, laplacian_kernel\n",
    "\n",
    "from sklearn.cluster import KMeans\n",
    "import time"
   ]
  },
  {
   "cell_type": "markdown",
   "metadata": {},
   "source": [
    "Loading the `ijcnn1` dataset."
   ]
  },
  {
   "cell_type": "code",
   "execution_count": 2,
   "metadata": {},
   "outputs": [
    {
     "name": "stdout",
     "output_type": "stream",
     "text": [
      "(49990, 22)\n"
     ]
    }
   ],
   "source": [
    "from tick.dataset import fetch_tick_dataset\n",
    "\n",
    "data = fetch_tick_dataset('binary/ijcnn1/ijcnn1.trn.bz2')[0].toarray()\n",
    "target = fetch_tick_dataset('binary/ijcnn1/ijcnn1.trn.bz2')[1]\n",
    "print(data.shape)\n",
    "n, d = data.shape"
   ]
  },
  {
   "cell_type": "markdown",
   "metadata": {},
   "source": [
    "For faster computations, we will work on a smaller dataset."
   ]
  },
  {
   "cell_type": "code",
   "execution_count": 3,
   "metadata": {},
   "outputs": [],
   "source": [
    "big = False"
   ]
  },
  {
   "cell_type": "markdown",
   "metadata": {},
   "source": [
    "One can choose the size they want by setting the desired size in the variable `size`."
   ]
  },
  {
   "cell_type": "code",
   "execution_count": 4,
   "metadata": {},
   "outputs": [],
   "source": [
    "from sklearn.model_selection import train_test_split\n",
    "\n",
    "if big:\n",
    "    X, y = data, target\n",
    "    size = len(X)\n",
    "else:\n",
    "    size = 10000\n",
    "    ind = np.random.choice(len(data), size, replace=False)\n",
    "    X, y = data[ind], target[ind]"
   ]
  },
  {
   "cell_type": "markdown",
   "metadata": {},
   "source": [
    "Here, we give some functions that are used by both the standard Nyström method and MEKA. They are functions that allow to:\n",
    "- cluster the data into $c$ clusters\n",
    "- sample some observations for the Nyström approximations of the diagonal approximations.\n",
    "- compute a rank-$k$ pseudo inverse\n",
    "- perform a Nyström approximation that returns the diagonal matrices $W$ and $L$."
   ]
  },
  {
   "cell_type": "code",
   "execution_count": 5,
   "metadata": {},
   "outputs": [],
   "source": [
    "def clustering(X, c):\n",
    "    \"\"\"returns c clusters of data in the form of lists of indices\"\"\"\n",
    "    kmeans = KMeans(n_clusters=c)\n",
    "    clusters_index = kmeans.fit_predict(X)\n",
    "    clusters = [np.where(clusters_index == i)[0] for i in range(c)]\n",
    "    centers = kmeans.cluster_centers_\n",
    "    return clusters, centers\n",
    "\n",
    "\n",
    "def sampling(indices, m):\n",
    "    \"\"\" Given all the indices of the samples in a cluster, chooses m indices of the samples \"\"\"\n",
    "    chosen = np.random.choice(indices, m, replace=False)\n",
    "    return chosen\n",
    "\n",
    "\n",
    "def low_rank_inv(A, k):\n",
    "    '''compute a rank-k pseudo inverse of the matrix A'''\n",
    "    u, s, _ = LA.svd(A)\n",
    "    U = u[:, :k]\n",
    "    S = np.diag(1 / s[:k])\n",
    "    A_k = np.dot(U, np.dot(S, U.T))\n",
    "    return A_k\n",
    "\n",
    "\n",
    "def Nystrom_decomp(X, gamma, k,  indices, chosen_indices):\n",
    "    '''Given samples of a matrix G, computes its rank-k approximation\n",
    "             G = W * L * W.T'''\n",
    "    m = len(chosen_indices)\n",
    "    n_s = len(indices)\n",
    "    other_indices = np.array([ind for ind in indices if ind not in chosen_indices])\n",
    "    d = {}\n",
    "\n",
    "    L_inv = rbf_kernel(X[chosen_indices], gamma=gamma)\n",
    "\n",
    "    for j, index in enumerate(chosen_indices):\n",
    "        d[index] = j\n",
    "    \n",
    "    for j, index in enumerate(other_indices):\n",
    "        d[index] = j + m\n",
    "        \n",
    "    Wp = rbf_kernel(X[other_indices], X[chosen_indices], gamma=gamma)\n",
    "    W = np.vstack((L_inv, Wp))\n",
    "\n",
    "    L = low_rank_inv(L_inv, k)\n",
    "\n",
    "    return W, L, d\n",
    "\n",
    "def approx_error(A, B):\n",
    "    return LA.norm(A - B, ord='fro') / LA.norm(A, ord='fro')\n",
    "\n",
    "def pair_rbf(a, b, gamma):\n",
    "    return np.exp(- gamma * LA.norm(a - b, 2) ** 2)"
   ]
  },
  {
   "cell_type": "markdown",
   "metadata": {},
   "source": [
    "We are now ready to create our algorithms. Below are two classes that implement them. Each function in the class is explained in the code below."
   ]
  },
  {
   "cell_type": "markdown",
   "metadata": {},
   "source": [
    "## a) Standard Nyström Method"
   ]
  },
  {
   "cell_type": "code",
   "execution_count": 6,
   "metadata": {},
   "outputs": [],
   "source": [
    "class Nystrom():\n",
    "    def __init__(self, X, gamma, k, m):\n",
    "        self.X = X\n",
    "        self.gamma = gamma\n",
    "        self.k = k\n",
    "        self.m = m\n",
    "        self.sampled = None\n",
    "        self.size = len(self.X)\n",
    "        self.time = 0\n",
    "        self.ind_dic = []\n",
    "        self.K_tilde = None\n",
    "        self.K_true = None\n",
    "\n",
    "    def sampling_Nystrom(self):\n",
    "        \"\"\"samples m observations.\n",
    "        Returns the indices of the sampled observations\"\"\"\n",
    "        self.sampled = sampling(self.size, self.m)\n",
    "        return self.sampled\n",
    "\n",
    "    def NYS(self):\n",
    "        \"\"\"creates the approximate kernel.\n",
    "        Returns the approximate kernel.\"\"\"\n",
    "        #sampling\n",
    "        indices = range(len(self.X))\n",
    "        chosen_indices = self.sampling_Nystrom()\n",
    "\n",
    "        #decomposition (W, L) and approximation\n",
    "        t0 = time.time()\n",
    "        W, L, self.ind_dic = Nystrom_decomp(self.X, self.gamma, self.k, indices, chosen_indices)\n",
    "        K_tilde = np.dot(W, np.dot(L, W.T))\n",
    "        self.time += time.time() - t0\n",
    "        return K_tilde\n",
    "    \n",
    "    def compute_kernel(self):\n",
    "        K_tilde_random = self.NYS()\n",
    "        values = np.array(list(self.ind_dic.values()))\n",
    "        self.K_tilde = K_tilde_random[values[:, None], values]\n",
    "        return self.K_tilde\n",
    "\n",
    "    def compute_error(self, K_true):\n",
    "        \"\"\"computes the approximation error.\n",
    "        Returns the approximation error, the approximate kernel and the reshaped\n",
    "        original kernel.\"\"\"\n",
    "        K_tilde = self.compute_kernel()\n",
    "        err = approx_error(K_true, K_tilde)\n",
    "        return err"
   ]
  },
  {
   "cell_type": "markdown",
   "metadata": {},
   "source": [
    "## b)  Memory Efficient Kernel Approximation (MEKA)"
   ]
  },
  {
   "cell_type": "code",
   "execution_count": 7,
   "metadata": {},
   "outputs": [],
   "source": [
    "class MEKA():\n",
    "    def __init__(self, X, gamma, c, k, m, rho, epsilon=None, rank_choice='uniform'):\n",
    "        self.X = X\n",
    "        self.gamma = gamma\n",
    "        self.c = c\n",
    "        self.k = k\n",
    "        self.m = m\n",
    "        self.epsilon = epsilon\n",
    "        self.size = len(self.X)\n",
    "        self.sampled = range(len(self.X))\n",
    "        self.K_tilde = 0\n",
    "        self.K_true = 0\n",
    "        self.D = {}\n",
    "        \n",
    "        #  particular to MEKA\n",
    "        self.rho = rho\n",
    "        self.m_MEKA = (1 + rho) * k # number of samples for the off-diagonals L_st\n",
    "        \n",
    "        ### about k_s\n",
    "        self.rank_choice = rank_choice\n",
    "        self.d_eig = {}\n",
    "        \n",
    "        self.ind_dic = [] # index \n",
    "        self.W = []\n",
    "        self.L = []\n",
    "        self.clusters = []\n",
    "        self.cluster_centers = []\n",
    "        \n",
    "        #  time parameters\n",
    "        self.Tc = 0\n",
    "        self.Tw = 0\n",
    "        self.Tl = 0\n",
    "        self.time = self.Tc + self.Tw + self.Tl\n",
    "    \n",
    "    \n",
    "    def diagonal_decomp(self):\n",
    "        \"\"\"performs the Nyström approximation of the diagonal matrices.\n",
    "        returns lists composed of: the diagonal matrices W, the diagonal matrices L,\n",
    "        and dictionnaries of the selected indices in each cluster\"\"\"\n",
    "        cs = 0\n",
    "        all_eigenvalues = []\n",
    "        sampled_ev = []\n",
    "        for s in range(self.c):\n",
    "            all_ind = self.clusters[s]\n",
    "            if self.rank_choice == 'proportional':\n",
    "                chosen_ind = sampling(all_ind, self.m)\n",
    "                k_s = int(c * self.k * len(all_ind) / self.size)\n",
    "                W_s, L_s, d_s = Nystrom_decomp(self.X, self.gamma, k_s, all_ind, chosen_ind)\n",
    "                self.W.append(W_s)\n",
    "                self.L.append(L_s)\n",
    "                self.ind_dic.append(d_s)\n",
    "                \n",
    "                # needed to reshape the kernel to the original form of the data\n",
    "                d_s_bis = {key : value + cs for key, value in d_s.items()}\n",
    "                self.D.update(d_s_bis)\n",
    "                cs += len(d_s_bis)\n",
    "                \n",
    "            elif self.rank_choice == 'uniform':\n",
    "                chosen_ind = sampling(all_ind, self.m)\n",
    "                k_s = self.k\n",
    "                W_s, L_s, d_s = Nystrom_decomp(self.X, self.gamma, self.k, all_ind, chosen_ind)\n",
    "                self.W.append(W_s)\n",
    "                self.L.append(L_s)\n",
    "                self.ind_dic.append(d_s)\n",
    "                \n",
    "                # needed to reshape the kernel to the original form of the data\n",
    "                d_s_bis = {key : value + cs for key, value in d_s.items()}\n",
    "                self.D.update(d_s_bis)\n",
    "                cs += len(d_s_bis)\n",
    "                \n",
    "            elif self.rank_choice == 'ev_based':\n",
    "                chosen_ind = sampling(all_ind, 2 * self.k)\n",
    "                sampled_ev.append(chosen_ind)\n",
    "                M_s = rbf_kernel(self.X[chosen_ind], gamma=self.gamma)\n",
    "                _, eigenvalues, _ = LA.svd(M_s)\n",
    "                for ev in eigenvalues:\n",
    "                    self.d_eig[ev] = s\n",
    "        \n",
    "        if self.rank_choice == 'ev_based':\n",
    "            largest_ev = sorted(self.d_eig, reverse=True)[:self.c*self.k]\n",
    "            ev_cluster = np.array([self.d_eig[ev] for ev in largest_ev])\n",
    "            ks = [np.sum(ev_cluster == j) for j in range(self.c)]\n",
    "            for s in range(self.c):\n",
    "                all_ind = self.clusters[s]\n",
    "                chosen_ind = sampled_ev[s]\n",
    "                k_s = ks[s]\n",
    "                W_s, L_s, d_s = Nystrom_decomp(self.X, self.gamma, k_s, all_ind, chosen_ind)\n",
    "                self.W.append(W_s)\n",
    "                self.L.append(L_s)\n",
    "                self.ind_dic.append(d_s)\n",
    "                \n",
    "                \n",
    "                d_s_bis = {key : value + cs for key, value in d_s.items()}\n",
    "                self.D.update(d_s_bis)\n",
    "                cs += len(d_s_bis)\n",
    "            \n",
    "        \n",
    "        return self.W, self.L, self.ind_dic\n",
    "    \n",
    "    def comp_L_st(self, s, t):\n",
    "        \"\"\"Computes the off-diagonal matrix L_st\n",
    "        Return L_st\"\"\"\n",
    "        \n",
    "        def sampling_st(s, t, m):\n",
    "            \"\"\"samples m observations from cluster s and m from cluster t\"\"\"\n",
    "            v1 = np.random.choice(self.clusters[s], m, replace=False)\n",
    "            v2 = np.random.choice(self.clusters[t], m, replace=False)\n",
    "            return v1, v2\n",
    "        \n",
    "        \n",
    "        \n",
    "        vs, vt = sampling_st(s, t, self.m_MEKA)\n",
    "\n",
    "        G_st = rbf_kernel(self.X[vs], self.X[vt], gamma=self.gamma)\n",
    "\n",
    "        ind_s, ind_t = self.ind_dic[s], self.ind_dic[t]\n",
    "        W_s, W_t = self.W[s], self.W[t]\n",
    "        \n",
    "        \n",
    "        W_vs = np.zeros((self.m_MEKA, W_s.shape[1]))\n",
    "        W_vt = np.zeros((self.m_MEKA, W_t.shape[1]))\n",
    "\n",
    "        \n",
    "        #Constructing W_vs and W_vt\n",
    "        for i in range(self.m_MEKA):\n",
    "            row_ind = vs[i]\n",
    "            W_ind_s = ind_s[row_ind]\n",
    "            W_vs[i] = W_s[W_ind_s]\n",
    "\n",
    "        for j in range(self.m_MEKA):\n",
    "            col_ind = vt[j]\n",
    "            W_ind_t = ind_t[col_ind]\n",
    "            W_vt[j] = W_t[W_ind_t]\n",
    "        \n",
    "        \n",
    "        \n",
    "        \n",
    "        #computing L_st\n",
    "        A = np.dot(LA.pinv(np.dot(W_vs.T, W_vs)), W_vs.T)\n",
    "        B = np.dot(W_vt, LA.pinv(np.dot(W_vt.T, W_vt)))\n",
    "        L_st = np.dot(np.dot(A, G_st), B)\n",
    "        return L_st\n",
    "    \n",
    "    \n",
    "    def K_MEKA(self):\n",
    "        \"\"\"Creates the MEKA approximate kernel.\n",
    "        Returns the MEKA approximate kernel.\"\"\"\n",
    "        \n",
    "        K_tilde = np.zeros((self.size, self.size))\n",
    "        cs = 0\n",
    "        for s in range(self.c):\n",
    "            W_s = self.W[s]\n",
    "            n_s = len(W_s)\n",
    "            ct = 0\n",
    "            center_s = self.cluster_centers[s]\n",
    "            for t in range(self.c):\n",
    "                center_t = self.cluster_centers[t]\n",
    "                W_t = self.W[t]\n",
    "                n_t = len(W_t)\n",
    "                if s == t:\n",
    "                    L_s = self.L[s]\n",
    "\n",
    "                    t0 = time.time()\n",
    "                    W = np.dot(W_s, np.dot(L_s, W_s.T))\n",
    "                    self.Tw += time.time() - t0\n",
    "\n",
    "\n",
    "                    K_tilde[cs:cs + n_s, cs:cs + n_s] = W\n",
    "                else:\n",
    "                    if self.epsilon is not None:\n",
    "                        center_dist = pair_rbf(center_s, center_t, gamma=self.gamma)\n",
    "                        if center_dist < self.epsilon:\n",
    "                            pass\n",
    "                        else:\n",
    "                            t0 = time.time()\n",
    "                            L_st = self.comp_L_st(s, t)\n",
    "                            K_tilde_st = np.dot(W_s, np.dot(L_st, W_t.T))\n",
    "                            self.Tl += time.time() - t0\n",
    "\n",
    "                            K_tilde[cs:cs + n_s, ct:ct + n_t] = K_tilde_st\n",
    "                    else:\n",
    "                        t0 = time.time()\n",
    "                        L_st = self.comp_L_st(s, t)\n",
    "                        K_tilde_st = np.dot(W_s, np.dot(L_st, W_t.T))\n",
    "                        self.Tl += time.time() - t0\n",
    "\n",
    "                        K_tilde[cs:cs + n_s, ct:ct + n_t] = K_tilde_st\n",
    "\n",
    "                ct += n_t\n",
    "            cs += n_s\n",
    "        \n",
    "        return K_tilde\n",
    "    \n",
    "\n",
    "    def MEKA(self):\n",
    "        \"\"\"Implements the MEKA algorithm.\n",
    "        Returns the MEKA approximate kernel.\"\"\"\n",
    "        # clustering\n",
    "        t0 = time.time()\n",
    "        self.clusters, self.cluster_centers = clustering(self.X, self.c)\n",
    "        self.Tc += time.time() - t0\n",
    "        \n",
    "        # diagonal elements\n",
    "        t0 = time.time()\n",
    "        self.W, self.L, self.ind_dic = self.diagonal_decomp()\n",
    "        self.Tw += time.time() - t0\n",
    "        \n",
    "        # non-diagonal elements\n",
    "        K_tilde = self.K_MEKA()\n",
    "        return K_tilde\n",
    "\n",
    "    \n",
    "    def reshape_kernel(self):\n",
    "        \"\"\"reshapes the kernel in the order of the original samples\"\"\"\n",
    "        values = np.array(list(self.D.values()))\n",
    "        K_tilde_modified = self.K_tilde_random[values[:, None], values]\n",
    "        return K_tilde_modified\n",
    "    \n",
    "    def compute_kernel(self):\n",
    "        self.K_tilde_random = self.MEKA()\n",
    "        self.K_tilde = self.reshape_kernel()\n",
    "        return self.K_tilde\n",
    "    \n",
    "    def modified_kernel(self):\n",
    "        return self.MEKA()\n",
    "    \n",
    "    def compute_error(self, K_true):\n",
    "        \"\"\"Computes the approximation error. Returns the approximation error, \n",
    "        the approximate kernel and the reshaped original kernel.\"\"\"\n",
    "        K_tilde = self.compute_kernel()\n",
    "        self.time = self.Tc + self.Tw + self.Tl\n",
    "        err = approx_error(K_true, K_tilde)\n",
    "        return err"
   ]
  },
  {
   "cell_type": "markdown",
   "metadata": {},
   "source": [
    "** Test **"
   ]
  },
  {
   "cell_type": "code",
   "execution_count": 8,
   "metadata": {},
   "outputs": [
    {
     "name": "stdout",
     "output_type": "stream",
     "text": [
      "Calculating the whole kernel...\n"
     ]
    }
   ],
   "source": [
    "print('Calculating the whole kernel...')\n",
    "gamma = 1\n",
    "K_true = rbf_kernel(X, gamma=gamma)"
   ]
  },
  {
   "cell_type": "code",
   "execution_count": 9,
   "metadata": {},
   "outputs": [
    {
     "name": "stdout",
     "output_type": "stream",
     "text": [
      "Computing MEKA and NYS approximations with k=10, m=20 and rho=2.\n"
     ]
    }
   ],
   "source": [
    "c = 10\n",
    "k = 10\n",
    "m = 2 * k\n",
    "rho = 2\n",
    "\n",
    "print('Computing MEKA and NYS approximations with k={}, m={} and rho={}.'.format(k, m, rho))"
   ]
  },
  {
   "cell_type": "code",
   "execution_count": 10,
   "metadata": {},
   "outputs": [
    {
     "name": "stdout",
     "output_type": "stream",
     "text": [
      "Approximation error of NYS: 0.493434593563\n"
     ]
    }
   ],
   "source": [
    "Nys = Nystrom(X=X, gamma=gamma, k=k, m=m)\n",
    "err_Nys = Nys.compute_error(K_true)\n",
    "print('Approximation error of NYS:', err_Nys)"
   ]
  },
  {
   "cell_type": "code",
   "execution_count": 11,
   "metadata": {},
   "outputs": [
    {
     "name": "stdout",
     "output_type": "stream",
     "text": [
      "Approximation error of MEKA: 0.0602199728721\n"
     ]
    }
   ],
   "source": [
    "Meka = MEKA(X=X, gamma=gamma, c=c, k=k, m=m, rho=rho, epsilon=None, rank_choice='uniform')\n",
    "err_Meka = Meka.compute_error(K_true)\n",
    "print('Approximation error of MEKA:', err_Meka)"
   ]
  },
  {
   "cell_type": "markdown",
   "metadata": {},
   "source": [
    "## Experiments on the ijcnn1 dataset and comparison with the standard Nyström method."
   ]
  },
  {
   "cell_type": "markdown",
   "metadata": {},
   "source": [
    "The aim of the remaining of the notebook is to show the benefits of MEKA, especially compared with the Nyström method. \n",
    "\n",
    "For all the experiments, the measure of performance we use is the relative approximation error. Noting $K$ the true kernel and $\\tilde{K}$ its approximation by one of the proposed methods, the approximation error is defined as:\n",
    "\n",
    "$$\n",
    "\\frac{\\|K - \\tilde{K}\\|_{F}}{\\|K\\|_{F}}\n",
    "$$\n",
    "\n",
    "- ** Robustness to $\\gamma$ **: First, we are going to show that the MEKA method is robust to the choice of the parameter $\\gamma$, which means that Meka performs well whether the Kernel matrix presents a block diagonal structure (high $\\gamma$) or a low rank one (low $\\gamma$). Note that this is not the case for Block Kernel Approximation (BKA), which fails when $\\gamma$ is high and for the standard Nyström method, which fails when $\\gamma$ is low. As we compare Meka with the standard Nyström method, we will see that this last observation is empirically verified.\n",
    "\n",
    "- **Robustness to the number of clusters $c$** : Compared to the standard Nyström method, MEKA introduces an additional parameter: the number of clusters. We are going to show that MEKA is robust to varying the number of clusters. Since increasing the number of clusters $c$ increases the memory usage with Meka, we increase the rank of the approximations for the standard Nyström method to have a fair comparison.\n",
    "\n",
    "- ** Memory and time efficiency**: We will compare the two methods in terms of their memory usage and computation time. The computation time is measured empirically. Note that since performing MEKA and NYS require rearranging the kernel matrix, this costs some computational time. In computing the time for the algorithms, we only consider the time required for computing the kernel, not the reshaping time. For storage space: noting $M$ the memory usage of a method, we consider that for a rank $ck$ approximation of the kernel matrix: $M(Nyström) = cnk$ and $M(MEKA) = nk + (ck)^2$\n",
    "- ** Accuracy of SVM ** : We will compare the accuracy scores of SVM with a Gaussian kernel using MEKA and NYS. The goal of the approximations is speeding up kernel-SVM when all the training and testing data are available beforehand. Note that if this is not the case, our methods are of limited use for this task.\n",
    "\n",
    " As it is was one of the main motivations of the article, we illustrate the results on low and high values of $\\gamma$ each time. For all these comparisons, we will clearly see that MEKA outperforms the standard Nyström method."
   ]
  },
  {
   "cell_type": "markdown",
   "metadata": {},
   "source": [
    "### Robustness to the Gaussian scaling parameter $\\gamma$"
   ]
  },
  {
   "cell_type": "code",
   "execution_count": 12,
   "metadata": {},
   "outputs": [],
   "source": [
    "gammas = [0.01, 0.5, 2, 5, 8]\n",
    "\n",
    "rho = 3\n",
    "k = 10\n",
    "m = 2 * k\n",
    "\n",
    "all_err_Nys = []\n",
    "all_err_Meka = []\n",
    "for gamma in gammas:\n",
    "    Nys = Nystrom(X=X, gamma=gamma, k=k, m=m)\n",
    "    Meka = MEKA(X=X, gamma=gamma, c=c, k=k, m=m, rho=rho)\n",
    "    K_true = rbf_kernel(X, gamma=gamma)\n",
    "    err_Nys = Nys.compute_error(K_true)\n",
    "    err_Meka = Meka.compute_error(K_true)\n",
    "    all_err_Nys.append(err_Nys)\n",
    "    all_err_Meka.append(err_Meka)"
   ]
  },
  {
   "cell_type": "code",
   "execution_count": 13,
   "metadata": {},
   "outputs": [
    {
     "data": {
      "text/plain": [
       "<matplotlib.legend.Legend at 0x110639f60>"
      ]
     },
     "execution_count": 13,
     "metadata": {},
     "output_type": "execute_result"
    },
    {
     "data": {
      "image/png": "[encoded data removed]",
      "text/plain": [
       "<matplotlib.figure.Figure at 0x10c238320>"
      ]
     },
     "metadata": {},
     "output_type": "display_data"
    }
   ],
   "source": [
    "plt.plot(gammas, all_err_Nys, linestyle='--', color='red')\n",
    "plt.plot(gammas, all_err_Meka, linestyle='-', marker='s', color='black')\n",
    "plt.legend(['Nyström', 'Meka'])"
   ]
  },
  {
   "cell_type": "markdown",
   "metadata": {},
   "source": [
    "### Robustness to the number of clusters $c$"
   ]
  },
  {
   "cell_type": "code",
   "execution_count": 14,
   "metadata": {},
   "outputs": [],
   "source": [
    "gammas = [1, 5]\n",
    "rho = 3\n",
    "\n",
    "cs = np.linspace(5, 20, 4, dtype='int')\n",
    "\n",
    "ks = np.linspace(20, 35, 4, dtype='int')\n",
    "m1s = [2 * k for k in ks]\n",
    "k = 20\n",
    "m = 2 * k\n",
    "\n",
    "\n",
    "\n",
    "all_time_Meka, all_time_Nys = [ [], [] ], [ [], [] ]\n",
    "all_err_Meka, all_err_Nys = [ [], [] ], [ [], [] ]\n",
    "for j, gamma in enumerate(gammas):\n",
    "    K_true = rbf_kernel(X, gamma=gamma)\n",
    "    for i, c in enumerate(cs):\n",
    "        Nys = Nystrom(X=X, gamma=gamma, k=ks[i], m=m1s[i])\n",
    "        Meka = MEKA(X=X, gamma=gamma, c=c, k=k, m=m, rho=rho)\n",
    "        err_Nys = Nys.compute_error(K_true)\n",
    "        err_Meka = Meka.compute_error(K_true)\n",
    "        all_err_Nys[j].append(err_Nys)\n",
    "        all_err_Meka[j].append(err_Meka)"
   ]
  },
  {
   "cell_type": "code",
   "execution_count": 15,
   "metadata": {},
   "outputs": [
    {
     "data": {
      "image/png": "[encoded data removed]",
      "text/plain": [
       "<matplotlib.figure.Figure at 0x113c0f438>"
      ]
     },
     "metadata": {},
     "output_type": "display_data"
    }
   ],
   "source": [
    "plt.figure(figsize=(15, 6))\n",
    "for j, gamma in enumerate(gammas):\n",
    "    plt.subplot(1, 2, j+1)\n",
    "    plt.plot(cs, all_err_Nys[j], linestyle='--', color='red')\n",
    "    plt.plot(cs, all_err_Meka[j], linestyle='-', marker='s', color='black')\n",
    "    plt.title(r'$\\gamma$ ={}'.format(gamma))\n",
    "    plt.legend(['Nyström', 'Meka'])"
   ]
  },
  {
   "cell_type": "markdown",
   "metadata": {},
   "source": [
    "### Memory efficiency of the method"
   ]
  },
  {
   "cell_type": "code",
   "execution_count": 16,
   "metadata": {},
   "outputs": [],
   "source": [
    "gammas = [1, 5]\n",
    "c = 10\n",
    "ks = np.linspace(20, 100, 5, dtype='int')\n",
    "ms = [2 * k for k in ks]\n",
    "\n",
    "all_time_Meka, all_time_Nys = [ [], [] ], [ [], [] ]\n",
    "all_err_Meka, all_err_Nys = [ [], [] ], [ [], [] ]\n",
    "for j, gamma in enumerate(gammas):\n",
    "    K_true = rbf_kernel(X, gamma=gamma)\n",
    "    for i, k in enumerate(ks):\n",
    "        Nys = Nystrom(X=X, gamma=gamma, k=k, m=ms[i])\n",
    "        Meka = MEKA(X=X, gamma=gamma, c=c, k=k, m=ms[i], rho=rho)\n",
    "        err_Nys = Nys.compute_error(K_true)\n",
    "        err_Meka = Meka.compute_error(K_true)\n",
    "        all_err_Meka[j].append(err_Meka)\n",
    "        all_err_Nys[j].append(err_Nys)"
   ]
  },
  {
   "cell_type": "code",
   "execution_count": 17,
   "metadata": {},
   "outputs": [],
   "source": [
    "def param_Meka(n, c, k):\n",
    "    return n * k + (c * k) ** 2\n",
    "def param_Nys(n, k):\n",
    "    return n * k\n",
    "\n",
    "memo_Meka = [param_Meka(n, c, k) for k in ks]\n",
    "memo_Nys = [param_Nys(n, k) for k in ks]"
   ]
  },
  {
   "cell_type": "code",
   "execution_count": 18,
   "metadata": {},
   "outputs": [
    {
     "data": {
      "image/png": "[encoded data removed]",
      "text/plain": [
       "<matplotlib.figure.Figure at 0x113b07dd8>"
      ]
     },
     "metadata": {},
     "output_type": "display_data"
    }
   ],
   "source": [
    "plt.figure(figsize=(15, 6))\n",
    "for j, gamma in enumerate(gammas):\n",
    "    plt.subplot(1, 2, j+1)\n",
    "    plt.plot(memo_Nys, all_err_Nys[j], linestyle='--', color='red')\n",
    "    plt.plot(memo_Meka, all_err_Meka[j], linestyle='-', marker='s', color='black')\n",
    "    plt.legend(['Nyström', 'Meka'])\n",
    "    plt.title('gamma = {}'.format(gamma))"
   ]
  },
  {
   "cell_type": "markdown",
   "metadata": {},
   "source": [
    "### Time efficiency of MEKA"
   ]
  },
  {
   "cell_type": "code",
   "execution_count": 19,
   "metadata": {},
   "outputs": [],
   "source": [
    "gammas = [1, 5]\n",
    "c = 10\n",
    "rho = 2\n",
    "\n",
    "k1s = np.linspace(40, 120, 4, dtype='int')\n",
    "k2s = np.linspace(5, 30, 4, dtype='int')\n",
    "m1s = [2 * k for k in k1s]\n",
    "m2s = [2 * k for k in k2s]\n",
    "\n",
    "\n",
    "all_time_Meka, all_time_Nys = [ [], [] ], [ [], [] ]\n",
    "all_err_Meka, all_err_Nys = [ [], [] ], [ [], [] ]\n",
    "for j, gamma in enumerate(gammas):\n",
    "    K_true = rbf_kernel(X, gamma=gamma)\n",
    "    for i, k1 in enumerate(k1s):\n",
    "        time_Nys, time_Meka = [], []\n",
    "        err_Nys, err_Meka = 0, 0\n",
    "        n_iter = 5\n",
    "        for k in range(n_iter):\n",
    "            Nys = Nystrom(X=X, gamma=gamma, k=k1, m=m1s[i])\n",
    "            Meka = MEKA(X=X, gamma=gamma, c=c, k=k2s[i], m=m2s[i], rho=rho)\n",
    "            err_Nys_k, err_Meka_k = Nys.compute_error(K_true), Meka.compute_error(K_true)\n",
    "            err_Nys += err_Nys_k\n",
    "            err_Meka += err_Meka_k\n",
    "            time_Nys.append(Nys.time)\n",
    "            time_Meka.append(Meka.time)\n",
    "            \n",
    "        err_Nys, err_Meka = err_Nys / n_iter, err_Meka / n_iter\n",
    "        \n",
    "        # we take the minimum computing time\n",
    "        time_Nys, time_Meka = min(time_Nys), min(time_Meka)\n",
    "        \n",
    "        all_err_Nys[j].append(err_Nys)\n",
    "        all_err_Meka[j].append(err_Meka)\n",
    "        all_time_Nys[j].append(time_Nys)\n",
    "        all_time_Meka[j].append(time_Meka)"
   ]
  },
  {
   "cell_type": "code",
   "execution_count": 20,
   "metadata": {},
   "outputs": [
    {
     "data": {
      "image/png": "[encoded data removed]",
      "text/plain": [
       "<matplotlib.figure.Figure at 0x11406e908>"
      ]
     },
     "metadata": {},
     "output_type": "display_data"
    }
   ],
   "source": [
    "plt.figure(figsize=(15, 6))\n",
    "for j, gamma in enumerate(gammas):\n",
    "    plt.subplot(1, 2, j+1)\n",
    "    plt.plot(all_time_Nys[j], all_err_Nys[j], linestyle='--', color='red')\n",
    "    plt.plot(all_time_Meka[j], all_err_Meka[j], linestyle='-', marker='s', color='black')\n",
    "    plt.legend(['Nyström', 'Meka'])\n",
    "    plt.title('gamma = {}'.format(gamma))"
   ]
  },
  {
   "cell_type": "code",
   "execution_count": 35,
   "metadata": {},
   "outputs": [
    {
     "name": "stdout",
     "output_type": "stream",
     "text": [
      "[(0.8621459007263184, 0.11884227179932269), (1.0672259330749512, 0.08530139108744092), (1.2817130088806152, 0.056030740759745103), (1.5961339473724365, 0.044367216826588285)]\n",
      "[(0.8117918968200684, 0.12187863620415551), (0.9269106388092041, 0.045802395901033265), (1.0232937335968018, 0.025250492325016739), (1.1685717105865479, 0.016419509952001168)]\n",
      "[(0.8690030574798584, 0.45234903784900882), (1.0489680767059326, 0.34088778365133116), (1.2848200798034668, 0.27530389649477982), (1.7468020915985107, 0.22778554438858084)]\n",
      "[(0.8191182613372803, 0.41665768403909054), (0.9226779937744141, 0.21337528595069283), (1.0362472534179688, 0.15313304869573985), (1.1376807689666748, 0.12170201470894677)]\n"
     ]
    }
   ],
   "source": [
    "print(list(zip(all_time_Nys[0], all_err_Nys[0])))\n",
    "print(list(zip(all_time_Meka[0], all_err_Meka[0])))\n",
    "print(list(zip(all_time_Nys[1], all_err_Nys[1])))\n",
    "print(list(zip(all_time_Meka[1], all_err_Meka[1])))"
   ]
  },
  {
   "cell_type": "markdown",
   "metadata": {},
   "source": [
    "## Kernel SVM classification"
   ]
  },
  {
   "cell_type": "markdown",
   "metadata": {},
   "source": [
    "Kernel SVM amounts to solving the following problem:\n",
    "$$\n",
    "\\min_{\\alpha} \\frac{1}{2} \\alpha^T Q \\alpha -e^T \\alpha\n",
    "$$\n",
    "$$\n",
    "s.t. 0 \\leq \\alpha \\leq C\n",
    "$$\n",
    "\n",
    "Where $Q_{ij} = y_i y_j G_{ij}$, where G is the kernel matrix. We have to find $\\alpha$. And then we will simply predict for an observation $x$:\n",
    "$$\n",
    "y_x = \\sum_{i=1}^{n} \\alpha_i^{*}y_i K(x, x_i)\n",
    "$$\n",
    "\n",
    "The goal here is to speed-up kernel SVM by using kernel approximations with MEKA and NYS. Of course, we expect some loss in accuracy, but that MEKA will still perform better while being time and memory efficient compared to NYS."
   ]
  },
  {
   "cell_type": "code",
   "execution_count": 21,
   "metadata": {},
   "outputs": [],
   "source": [
    "from sklearn.svm import SVC\n",
    "p_train = 0.6\n",
    "\n",
    "def kernel_train_test_split(kernel, y, prct_train):\n",
    "    size_train = int(prct_train * len(kernel))\n",
    "    K_train = kernel[:size_train, :size_train]\n",
    "    K_test = kernel[size_train:, :size_train]\n",
    "    y_train = y[:size_train]\n",
    "    y_test = y[size_train:]\n",
    "    return K_train, y_train, K_test, y_test\n",
    "\n",
    "def data_train_test_split(X, y, prct_train):\n",
    "    size_train = int(prct_train * len(X))\n",
    "    X_train = X[:size_train, :size_train]\n",
    "    X_test = X[size_train:, :size_train]\n",
    "    y_train = y[:size_train]\n",
    "    y_test = y[size_train:]\n",
    "    return X_train, y_train, X_test, y_test"
   ]
  },
  {
   "cell_type": "markdown",
   "metadata": {},
   "source": [
    "### With the true Kernel"
   ]
  },
  {
   "cell_type": "markdown",
   "metadata": {},
   "source": [
    "As this is not the core of the article, we only perform 3-fold cross-validation to determine the best values of $\\gamma$ and $\\lambda$."
   ]
  },
  {
   "cell_type": "code",
   "execution_count": 22,
   "metadata": {},
   "outputs": [],
   "source": [
    "X_train, y_train, X_test, y_test = data_train_test_split(X, y, p_train)"
   ]
  },
  {
   "cell_type": "code",
   "execution_count": 23,
   "metadata": {},
   "outputs": [],
   "source": [
    "Cs = [2**i for i in range(-10, 11)]\n",
    "gammas = [2**i for i in range(-10, 11)]"
   ]
  },
  {
   "cell_type": "code",
   "execution_count": 24,
   "metadata": {},
   "outputs": [
    {
     "data": {
      "text/plain": [
       "GridSearchCV(cv=2, error_score='raise',\n",
       "       estimator=SVC(C=1.0, cache_size=200, class_weight=None, coef0=0.0,\n",
       "  decision_function_shape='ovr', degree=3, gamma='auto', kernel='rbf',\n",
       "  max_iter=-1, probability=False, random_state=None, shrinking=True,\n",
       "  tol=0.001, verbose=False),\n",
       "       fit_params=None, iid=True, n_jobs=1,\n",
       "       param_grid={'gamma': [0.0009765625, 0.001953125, 0.00390625, 0.0078125, 0.015625, 0.03125, 0.0625, 0.125, 0.25, 0.5, 1, 2, 4, 8, 16, 32, 64, 128, 256, 512, 1024], 'C': [0.0009765625, 0.001953125, 0.00390625, 0.0078125, 0.015625, 0.03125, 0.0625, 0.125, 0.25, 0.5, 1, 2, 4, 8, 16, 32, 64, 128, 256, 512, 1024]},\n",
       "       pre_dispatch='2*n_jobs', refit=True, return_train_score='warn',\n",
       "       scoring=None, verbose=0)"
      ]
     },
     "execution_count": 24,
     "metadata": {},
     "output_type": "execute_result"
    }
   ],
   "source": [
    "from sklearn.model_selection import GridSearchCV\n",
    "params = {'C': Cs, 'gamma': gammas}\n",
    "clf = GridSearchCV(SVC(kernel='rbf'), params, cv=2)\n",
    "clf.fit(X_train, y_train)"
   ]
  },
  {
   "cell_type": "code",
   "execution_count": 25,
   "metadata": {},
   "outputs": [
    {
     "name": "stdout",
     "output_type": "stream",
     "text": [
      "The best parameters by 2-fold cross-validation are: lambda=128, gamma=0.5\n"
     ]
    }
   ],
   "source": [
    "lbd = clf.best_params_['C']\n",
    "gamma = clf.best_params_['gamma']\n",
    "print('The best parameters by 2-fold cross-validation are: lambda={}, gamma={}'.format(lbd, gamma))"
   ]
  },
  {
   "cell_type": "code",
   "execution_count": 26,
   "metadata": {},
   "outputs": [
    {
     "name": "stdout",
     "output_type": "stream",
     "text": [
      "The percentage accuracy for these values is 97.35%\n"
     ]
    }
   ],
   "source": [
    "acc = clf.score(X_test, y_test)\n",
    "print('The percentage accuracy for these values is %.2f%%'% (acc*100))"
   ]
  },
  {
   "cell_type": "markdown",
   "metadata": {},
   "source": [
    "## With approximation methods"
   ]
  },
  {
   "cell_type": "markdown",
   "metadata": {},
   "source": [
    "### a) Meka"
   ]
  },
  {
   "cell_type": "code",
   "execution_count": 27,
   "metadata": {},
   "outputs": [],
   "source": [
    "c = 10\n",
    "k = 20\n",
    "m = 2 * k\n",
    "rho = 3\n",
    "Meka = MEKA(X=X, gamma=gamma, c=c, k=k, m=m, rho=rho)\n",
    "K_tilde_Meka = Meka.compute_kernel()"
   ]
  },
  {
   "cell_type": "code",
   "execution_count": 28,
   "metadata": {},
   "outputs": [],
   "source": [
    "K = rbf_kernel(X, gamma=gamma)"
   ]
  },
  {
   "cell_type": "code",
   "execution_count": 29,
   "metadata": {},
   "outputs": [
    {
     "name": "stdout",
     "output_type": "stream",
     "text": [
      "0.00847340335454\n"
     ]
    }
   ],
   "source": [
    "err_Meka = approx_error(K, K_tilde_Meka)\n",
    "print(err_Meka)"
   ]
  },
  {
   "cell_type": "code",
   "execution_count": 30,
   "metadata": {},
   "outputs": [],
   "source": [
    "K_train, y_train, K_test, y_test = kernel_train_test_split(K_tilde_Meka, y, p_train)"
   ]
  },
  {
   "cell_type": "code",
   "execution_count": 31,
   "metadata": {},
   "outputs": [
    {
     "name": "stdout",
     "output_type": "stream",
     "text": [
      "The percentage accuracy of the MEKA approximation for these values: 93.12%\n"
     ]
    }
   ],
   "source": [
    "svc = SVC(C=lbd, gamma=gamma, kernel='precomputed')\n",
    "svc.fit(K_train, y_train)\n",
    "y_pred = svc.predict(K_test)\n",
    "acc_Meka = np.mean(y_test == y_pred)\n",
    "print('The percentage accuracy of the MEKA approximation for these values: %.2f%%'% (acc_Meka*100))"
   ]
  },
  {
   "cell_type": "markdown",
   "metadata": {},
   "source": [
    "## b) Nys"
   ]
  },
  {
   "cell_type": "code",
   "execution_count": 32,
   "metadata": {},
   "outputs": [],
   "source": [
    "Nys = Nystrom(X=X, gamma=gamma, k=k, m=m)\n",
    "K_tilde = Nys.compute_kernel()"
   ]
  },
  {
   "cell_type": "code",
   "execution_count": 33,
   "metadata": {},
   "outputs": [],
   "source": [
    "K_train, y_train, K_test, y_test = kernel_train_test_split(K_tilde, y, p_train)"
   ]
  },
  {
   "cell_type": "code",
   "execution_count": 34,
   "metadata": {},
   "outputs": [
    {
     "name": "stdout",
     "output_type": "stream",
     "text": [
      "The percentage accuracy of the NYS approximation for these values: 89.10%\n"
     ]
    }
   ],
   "source": [
    "svc = SVC(C=lbd, gamma=gamma, kernel='precomputed')\n",
    "svc.fit(K_train, y_train)\n",
    "y_pred = svc.predict(K_test)\n",
    "acc_Nys = np.mean(y_test == y_pred)\n",
    "print('The percentage accuracy of the NYS approximation for these values: %.2f%%'% (acc_Nys*100))"
   ]
  }
 ],
 "metadata": {
  "kernelspec": {
   "display_name": "Python 3",
   "language": "python",
   "name": "python3"
  },
  "language_info": {
   "codemirror_mode": {
    "name": "ipython",
    "version": 3
   },
   "file_extension": ".py",
   "mimetype": "text/x-python",
   "name": "python",
   "nbconvert_exporter": "python",
   "pygments_lexer": "ipython3",
   "version": "3.5.4"
  }
 },
 "nbformat": 4,
 "nbformat_minor": 2
}
