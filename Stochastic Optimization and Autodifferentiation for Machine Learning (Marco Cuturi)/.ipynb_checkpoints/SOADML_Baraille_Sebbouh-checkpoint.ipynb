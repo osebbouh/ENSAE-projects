{
 "cells": [
  {
   "cell_type": "markdown",
   "metadata": {},
   "source": [
    "# *Tracking the gradient using the Hessian: A new look at variance reducing stochastic methods*, 2018, Robert Gower, Nicolas Le Roux, Francis Bach\n",
    "\n",
    "### Chloe Baraille & Othmane Sebbouh"
   ]
  },
  {
   "cell_type": "markdown",
   "metadata": {},
   "source": [
    "In this notebook we implement the modified SVRG proposed in *Tracking the gradient using the Hessian: A new look at variance reducing stochastic methods* and benchmark it against SVRG. This modified SVRG uses the Hessian to track gradient over time. We implement three methods to approximate efficiently the Hessian:\n",
    "- Diagonal approximation\n",
    "- Low rank approximation: Curvature Matching\n",
    "- Low rank approximation: Action Matching\n",
    "\n",
    "We use the *data_orsay_2017* data set. It contains training data and testing data for a binary classification problem with $d=100$, $n=10 000$ training observations, and $n=100 000$ testing observations. We implement the algorithm on the minimization of the least squares and logistic regressions with a $l_2$ regularizer.\n",
    "\n",
    "The data set is joint to the report and the notebook or can be found here: http://www.di.ens.fr/~fbach/orsay2018.html."
   ]
  },
  {
   "cell_type": "code",
   "execution_count": 1,
   "metadata": {},
   "outputs": [],
   "source": [
    "%matplotlib inline\n",
    "import pandas as pd\n",
    "import numpy as np\n",
    "from scipy.linalg import norm\n",
    "import matplotlib.pyplot as plt\n",
    "from scipy.io import loadmat\n",
    "from scipy.optimize import fmin_l_bfgs_b"
   ]
  },
  {
   "cell_type": "code",
   "execution_count": 2,
   "metadata": {},
   "outputs": [],
   "source": [
    "data = loadmat('data_orsay_2017.mat')"
   ]
  },
  {
   "cell_type": "code",
   "execution_count": 3,
   "metadata": {},
   "outputs": [],
   "source": [
    "n = 1000\n",
    "X_test = data['Xtest']\n",
    "y_test = np.array([float(elt) for elt in data['ytest']])\n",
    "X_train = data['Xtrain'][:n, :]\n",
    "y_train = np.array([float(elt) for elt in data['ytrain']])[:n]"
   ]
  },
  {
   "cell_type": "markdown",
   "metadata": {},
   "source": [
    "## 1.Functions"
   ]
  },
  {
   "cell_type": "markdown",
   "metadata": {},
   "source": [
    "We want to minimize\n",
    "$$\n",
    "F(x) = \\frac 1n \\sum_{i=1}^n \\ell(a_i^\\top x, b_i) + \\frac \\lambda 2 \\|x\\|_2^2 =  \\frac 1n \\sum_{i=1}^n f_i(x)\n",
    "$$\n",
    "where\n",
    "- $\\ell(a_i^\\top x, b_i) = (b_i - a_i^\\top x)^2$ (least-squares regression)\n",
    "- $\\ell(a_i^\\top x, b_i) = \\log(1 + \\exp(-b_i a_i^\\top x))$ (logistic regression)"
   ]
  },
  {
   "cell_type": "markdown",
   "metadata": {},
   "source": [
    "### (a) Linear regression"
   ]
  },
  {
   "cell_type": "code",
   "execution_count": 4,
   "metadata": {},
   "outputs": [],
   "source": [
    "from scipy.linalg import svd\n",
    "\n",
    "\n",
    "class LinReg(object):\n",
    "    \"\"\"A class for the least-squares regression with L2/Ridge penalization\"\"\"\n",
    "\n",
    "    def __init__(self, A, b, lbda):\n",
    "        self.A = A\n",
    "        self.b = b\n",
    "        self.n, self.d = A.shape\n",
    "        self.lbda = lbda\n",
    "        self.name = \"Linear regression\"\n",
    "\n",
    "    def loss(self, x):\n",
    "        \"\"\"Function F\"\"\"\n",
    "        return norm(self.A.dot(x) - self.b) ** 2 / (2. * self.n) + self.lbda * norm(x) ** 2 / 2.\n",
    "    \n",
    "    def grad(self, x):\n",
    "        \"\"\"Gradient of F\"\"\"\n",
    "        return self.A.T.dot(self.A.dot(x) - self.b) / self.n + self.lbda * x\n",
    "\n",
    "    def grad_i(self, i, x):\n",
    "        \"\"\"Gradient of f_i\"\"\"\n",
    "        a_i = self.A[i]\n",
    "        return (a_i.dot(x) - self.b[i]) * a_i + self.lbda * x\n",
    "    \n",
    "    def hessian(self, x):\n",
    "        \"\"\"Hessian of F\"\"\"\n",
    "        return self.A.T.dot(self.A) / self.n + self.lbda * np.eye(self.d)\n",
    "    \n",
    "    def hessian_i(self, i, x):\n",
    "        \"\"\"Hessian of f_i\"\"\"\n",
    "        a_i = self.A[i]\n",
    "        return np.outer(a_i, a_i) + self.lbda * np.eye(self.d)\n",
    "    \n",
    "    def diag_hessian_i(self, i, x):\n",
    "        \"\"\"Diagonal elements of the Hessian of f_i\"\"\"\n",
    "        a_i = self.A[i]\n",
    "        return a_i ** 2 + self.lbda\n",
    "\n",
    "    def lipschitz_constant(self):\n",
    "        \"\"\"Return the Lipschitz constant of the gradient of F\"\"\"\n",
    "        return norm(self.A, ord=2) ** 2 / self.n + self.lbda"
   ]
  },
  {
   "cell_type": "markdown",
   "metadata": {},
   "source": [
    "**Check gradients**"
   ]
  },
  {
   "cell_type": "code",
   "execution_count": 5,
   "metadata": {},
   "outputs": [
    {
     "data": {
      "text/plain": [
       "4.3971840188937156e-07"
      ]
     },
     "execution_count": 5,
     "metadata": {},
     "output_type": "execute_result"
    }
   ],
   "source": [
    "from scipy.optimize import check_grad\n",
    "\n",
    "n = X_train.shape[0]\n",
    "d = X_train.shape[1]\n",
    "\n",
    "lbda = 1. / n ** (0.5)\n",
    "model = LinReg(X_train, y_train, lbda)\n",
    "\n",
    "# Check that the gradient and the loss numerically match\n",
    "check_grad(model.loss, model.grad, np.random.randn(d))"
   ]
  },
  {
   "cell_type": "markdown",
   "metadata": {},
   "source": [
    "### (b) Logistic regression"
   ]
  },
  {
   "cell_type": "code",
   "execution_count": 6,
   "metadata": {},
   "outputs": [],
   "source": [
    "class LogReg(object):\n",
    "    \"\"\"A class for the logistic regression with L2/Ridge penalization\"\"\"\n",
    "\n",
    "    def __init__(self, A, b, lbda):\n",
    "        self.A = A\n",
    "        self.b = b\n",
    "        self.n, self.d = A.shape\n",
    "        self.lbda = lbda\n",
    "        self.name = \"Logistic regression\"\n",
    "        \n",
    "    def loss(self, x):\n",
    "        \"\"\"Function F\"\"\"\n",
    "        bAx = self.b * np.dot(self.A, x)\n",
    "        return np.mean(np.log(1. + np.exp(- bAx))) + self.lbda * norm(x) ** 2 / 2.\n",
    "    \n",
    "    def grad(self, x):\n",
    "        \"\"\"Gradient of F\"\"\"\n",
    "        bAx = self.b * np.dot(self.A, x)\n",
    "        temp = 1. / (1. + np.exp(bAx))\n",
    "        grad = - np.dot(self.A.T, self.b * temp) / self.n + self.lbda * x\n",
    "        return grad\n",
    "    \n",
    "    def grad_i(self, i, x):\n",
    "        \"\"\"Gradient of f_i\"\"\"\n",
    "        grad = - self.A[i] * self.b[i] / (1. + np.exp(self.b[i] * np.dot(self.A[i], x)))\n",
    "        grad += self.lbda * x\n",
    "        return grad\n",
    "\n",
    "    def hessian(self, x):\n",
    "        \"\"\"Hessian of F\"\"\"\n",
    "        bAx = self.b * np.dot(self.A, x)\n",
    "        exp_bAx = np.exp(bAx)\n",
    "        temp = exp_bAx / (1 + np.exp(bAx)) ** 2\n",
    "        temp = np.expand_dims(temp, 1)\n",
    "        P = temp * self.A\n",
    "        return 1 / n * np.dot(P.T, self.A) + self.lbda * np.eye(len(x))\n",
    "    \n",
    "    def hessian_i(self, i, x):\n",
    "        \"\"\"Hessian of f_i\"\"\"\n",
    "        temp = np.exp(self.b[i] * np.dot(self.A[i], x)) / (1 + np.exp(self.b[i] * np.dot(self.A[i], x)))**2 \n",
    "        return temp * np.outer(self.A[i].T, self.A[i]) + self.lbda * np.eye(self.d)\n",
    "    \n",
    "    def diag_hessian_i(self, i, x):\n",
    "        \"\"\"Diagonal elements of the Hessian of f_i\"\"\"\n",
    "        a_i = self.A[i]\n",
    "        b_i = self.b[i]\n",
    "        exp_bAx = np.exp(b_i * np.dot(a_i, x))\n",
    "        return b_i ** 2 * exp_bAx / (1 + exp_bAx) ** 2 * a_i ** 2 + self.lbda\n",
    "    \n",
    "    def lipschitz_constant(self):\n",
    "        \"\"\"Lipschitz constant of the gradient of F\"\"\"\n",
    "        return norm(self.A, ord=2) ** 2 / (4. * self.n) + self.lbda"
   ]
  },
  {
   "cell_type": "markdown",
   "metadata": {},
   "source": [
    "**Check gradients**"
   ]
  },
  {
   "cell_type": "code",
   "execution_count": 7,
   "metadata": {},
   "outputs": [
    {
     "data": {
      "text/plain": [
       "1.753184589320139e-07"
      ]
     },
     "execution_count": 7,
     "metadata": {},
     "output_type": "execute_result"
    }
   ],
   "source": [
    "lbda = 1. / n ** (0.5)\n",
    "model = LogReg(X_train, y_train, lbda)\n",
    "\n",
    "# Check that the gradient and the loss numerically match\n",
    "check_grad(model.loss, model.grad, np.random.randn(d))"
   ]
  },
  {
   "cell_type": "markdown",
   "metadata": {},
   "source": [
    "## 2. Inspector"
   ]
  },
  {
   "cell_type": "markdown",
   "metadata": {},
   "source": [
    "We define an inspector to track the errors of the algorithms. As a reference, we use L-BFGS as implemented in scipy."
   ]
  },
  {
   "cell_type": "code",
   "execution_count": 8,
   "metadata": {},
   "outputs": [],
   "source": [
    "import time\n",
    "\n",
    "def inspector(loss_fun, x_real, verbose=False):\n",
    "    \"\"\"A closure called to update metrics after each iteration.\"\"\"\n",
    "    objectives = []\n",
    "    errors = []\n",
    "    t0 = time.time()\n",
    "    it = [0] # This is a hack to be able to modify 'it' inside the closure.\n",
    "    timing = [] \n",
    "    def inspector_cl(xk):\n",
    "        obj = loss_fun(xk) - f_min\n",
    "        err = norm(xk - x_min)\n",
    "        tim = time.time()-t0\n",
    "        objectives.append(obj)\n",
    "        errors.append(err)\n",
    "        timing.append(tim)\n",
    "        if verbose == True:\n",
    "            if it[0] == 0:\n",
    "                print(' | '.join([name.center(8) for name in [\"it\", \"obj\", \"err\", \"time\"]]))\n",
    "            if it[0] % (n_iter / 5) == 0:\n",
    "                print(' | '.join([(\"%d\" % it[0]).rjust(8), (\"%.2e\" % obj).rjust(8), (\"%.2e\" % err).rjust(8), \n",
    "                                  (\"%.4e\" % tim).rjust(8)]))\n",
    "            it[0] += 1\n",
    "    inspector_cl.obj = objectives\n",
    "    inspector_cl.err = errors\n",
    "    inspector_cl.timing = timing\n",
    "\n",
    "    return inspector_cl"
   ]
  },
  {
   "cell_type": "code",
   "execution_count": 9,
   "metadata": {},
   "outputs": [],
   "source": [
    "n_iter = 50\n",
    "\n",
    "# generate indices of random samples\n",
    "iis = np.random.randint(0, n, n * n_iter)  "
   ]
  },
  {
   "cell_type": "markdown",
   "metadata": {},
   "source": [
    "## 3. Classic SVRG"
   ]
  },
  {
   "cell_type": "markdown",
   "metadata": {},
   "source": [
    "We recall that SVRG writes:\n",
    "\n",
    "Choose $\\bar{\\theta}_0 \\in \\mathbf{R}^d$ and step size $\\gamma > 0$\n",
    "\n",
    "For $k=0,...,K-1$:\n",
    "- Calculate $g(\\bar{\\theta}_k) = \\frac{1}{N} \\sum_{j=1}^N g_j(\\bar{\\theta}_k)$, $\\theta_0 = \\bar{\\theta}_k$\n",
    "- For $t=0,...,T-1$:\n",
    "    - Pick i uniformly at random\n",
    "    - $\\theta_{t+1} = \\theta_t - \\gamma \\left( g_i(\\theta_t) - g_i(\\bar{\\theta}_k) + g(\\bar{\\theta}_k) \\right)$\n",
    "- $\\bar{\\theta}_{k+1} = \\theta_T$\n",
    "\n",
    "Output $\\bar{\\theta}_K$"
   ]
  },
  {
   "cell_type": "code",
   "execution_count": 10,
   "metadata": {},
   "outputs": [],
   "source": [
    "def svrg(x_init, iis, grad, grad_i, n_iter, step, callback=None):\n",
    "    \"\"\"Stochastic variance reduction gradient algorithm.\"\"\"\n",
    "    x = x_init.copy()\n",
    "    x_old = x.copy()\n",
    "    \n",
    "    for idx in range(n_iter): # n_iter = T * K\n",
    "        \n",
    "        if idx % n == 0: # Update of the gradient in the outer loop\n",
    "            mu = grad(x)\n",
    "            x_old = x.copy()\n",
    "        \n",
    "        i = iis[idx]\n",
    "        x -= step * (grad_i(i, x) - grad_i(i, x_old) + mu) # Update of x in the inner loop\n",
    "        \n",
    "        # Update metrics after each full pass on data.\n",
    "        if callback is not None and idx % n == 0:\n",
    "            callback(x)\n",
    "    return x"
   ]
  },
  {
   "cell_type": "markdown",
   "metadata": {},
   "source": [
    "## 4. Tracking gradients with second order control variates"
   ]
  },
  {
   "cell_type": "markdown",
   "metadata": {},
   "source": [
    "### (a) SVRG2: tracking the gradients with the full Hessian"
   ]
  },
  {
   "cell_type": "markdown",
   "metadata": {},
   "source": [
    "We first implement the SVRG2 algorithm which is a modifiation of SVRG using full Hessians. SVRG2 writes:\n",
    "\n",
    "\n",
    "Choose $\\bar{\\theta}_0 \\in \\mathbf{R}^d$ and step size $\\gamma > 0$\n",
    "\n",
    "For $k=0,...,K-1$:\n",
    "- Calculate $g(\\bar{\\theta}_k) = \\frac{1}{N} \\sum_{j=1}^N g_j(\\bar{\\theta}_k)$, $\\underline{H(\\bar{\\theta}_k) = \\frac{1}{N} \\sum_{j=1}^N H_j(\\bar{\\theta}_k)}$, $\\theta_0 = \\bar{\\theta}_k$\n",
    "- For $t=0,...,T-1$:\n",
    "    - Pick i uniformly at random\n",
    "    - $\\theta_{t+1} = \\theta_t - \\gamma \\left( g_i(\\theta_t) - g_i(\\bar{\\theta}_k) - \\underline{H_i(\\bar{\\theta}_k)(\\theta_t - \\bar{\\theta}_k)} + g(\\bar{\\theta}_k) + \\underline{H(\\bar{\\theta}_k)(\\theta_t - \\bar{\\theta}_k) } \\right)$\n",
    "- $\\bar{\\theta}_{k+1} = \\theta_T$\n",
    "  \n",
    "Output $\\bar{\\theta}_K$\n"
   ]
  },
  {
   "cell_type": "code",
   "execution_count": 11,
   "metadata": {},
   "outputs": [],
   "source": [
    "def svrg2(x_init, iis, grad, grad_i, hessian, hessian_i, n_iter, step, callback=None):\n",
    "    \"\"\"SVRG2 with second order approximation\"\"\"\n",
    "    x = x_init.copy()\n",
    "    x_old = x.copy()\n",
    "    outer_update = 0\n",
    "    \n",
    "    for idx in range(n_iter):\n",
    "        \n",
    "        if idx % n == 0:\n",
    "            mu = grad(x)\n",
    "            hess = hessian(x)\n",
    "            x_old = x.copy()\n",
    "        \n",
    "        i = iis[idx]\n",
    "        x -= step * (grad_i(i, x) - grad_i(i, x_old) + mu - hessian_i(i, x).dot(x-x_old) + hess.dot(x-x_old))\n",
    "        \n",
    "        # Update metrics after each full pass on data.\n",
    "        if callback is not None and idx % n == 0:\n",
    "            callback(x)\n",
    "    return x"
   ]
  },
  {
   "cell_type": "markdown",
   "metadata": {},
   "source": [
    "### (b) Diagonal approximation"
   ]
  },
  {
   "cell_type": "markdown",
   "metadata": {},
   "source": [
    "We implement a first approximation of the hessian which is called diagonal approximation. It writes:\n",
    "\n",
    "$$\n",
    "\\hat{H}_i =  \\frac{(\\theta_t - \\bar{\\theta}) \\odot (g_i(\\theta_t) - g_i(\\bar{\\theta})) + \\sigma^2 diag(H_i(\\bar{\\theta})) }{(\\theta_t - \\bar{\\theta}) \\odot (\\theta_t - \\bar{\\theta}) + \\sigma^2}\n",
    "$$"
   ]
  },
  {
   "cell_type": "code",
   "execution_count": 12,
   "metadata": {},
   "outputs": [],
   "source": [
    "def hess_diag_i(i, x, x_old, diff_x, diff_grad_i, hessian_i, diag_hessian_i, sigma_sq):\n",
    "    \"\"\"Function that computes the diagonal approximation of the Hessian based on the above\"\"\"\n",
    "    numerator = diff_x * diff_grad_i + sigma_sq * diag_hessian_i(i, x_old)\n",
    "    denominator = diff_x ** 2 + sigma_sq * 2\n",
    "    return np.diag(numerator / denominator)"
   ]
  },
  {
   "cell_type": "code",
   "execution_count": 13,
   "metadata": {},
   "outputs": [],
   "source": [
    "def svrg_diag(x_init, iis, grad, grad_i, hessian, hessian_i, diag_hessian_i, n_iter, step, sigma_sq, callback=None):\n",
    "    \"\"\"SVRG2 with diagonal approximation\"\"\"\n",
    "    x = x_init.copy()\n",
    "    x_old = x.copy()\n",
    "    \n",
    "    for idx in range(n_iter):\n",
    "        \n",
    "        if idx % n == 0:\n",
    "            mu = grad(x)\n",
    "            x_old = x.copy()\n",
    "            hess = hessian(x_old)\n",
    "        \n",
    "        i = iis[idx]\n",
    "        \n",
    "        grad_i_new = grad_i(i, x)\n",
    "        grad_i_old = grad_i(i, x_old)\n",
    "        diff_grad_i = grad_i_new - grad_i_old\n",
    "        diff_x = x - x_old\n",
    "        \n",
    "        approx = hess_diag_i(i, x, x_old, diff_x, diff_grad_i, hessian_i, diag_hessian_i, sigma_sq)\n",
    "        \n",
    "        x -= step * (diff_grad_i + mu - approx.dot(diff_x) + hess.dot(diff_x))\n",
    "        \n",
    "        # Update metrics after each full pass on data.\n",
    "        if callback is not None and idx % n == 0:\n",
    "            callback(x)\n",
    "    return x"
   ]
  },
  {
   "cell_type": "markdown",
   "metadata": {},
   "source": [
    "### (c) Low rank approximation: Curvature Matching"
   ]
  },
  {
   "cell_type": "markdown",
   "metadata": {},
   "source": [
    "We implement the curvature matching algorithm. It writes:\n",
    "\n",
    "Choose $\\bar{\\theta}_0 \\in \\mathbf{R}^d$ and step size $\\gamma > 0$\n",
    "For $k=0,...,K-1$:\n",
    "- Calculate $g(\\bar{\\theta}_k) = \\frac{1}{N} \\sum_{j=1}^N g_j(\\bar{\\theta}_k)$, $\\theta_0 = \\bar{\\theta}_k$\n",
    "- Calculate $A = \\frac{1}{N} \\sum_{j=1}^N H_j(\\bar{\\theta})S$, $C = (S^TA)^{\\dagger/2}$\n",
    "- Generate $S \\in \\mathbf{R}^{d \\times k}$, calculate $\\bar{S} = SC$\n",
    "- Normalize the Hessian action $\\bar{A} = AC$\n",
    "- For $t=0,...,T-1$:\n",
    "    - Pick i uniformly at random\n",
    "    - $d_t = g_i(\\theta_t) - g_i(\\bar{\\theta}_k) + g(\\bar{\\theta}_k) - \\bar{A}\\bar{S}^TH_i(\\bar{\\theta}_k) \\bar{S} \\bar{A}^T (\\theta_t - \\bar{\\theta}_k) + \\bar{A}\\bar{A}^T(\\theta_t - \\bar{\\theta}_k) $\n",
    "    - $\\theta_{t+1} = \\theta_t - \\gamma d_t$ \n",
    "- $\\bar{\\theta}_{k+1} = \\theta_T$\n",
    "\n",
    "Output $\\bar{\\theta}_K$\n",
    "\n",
    "As in the article, we compute $S$ using the last directions:"
   ]
  },
  {
   "cell_type": "code",
   "execution_count": 14,
   "metadata": {},
   "outputs": [],
   "source": [
    "from scipy.linalg import sqrtm"
   ]
  },
  {
   "cell_type": "code",
   "execution_count": 15,
   "metadata": {},
   "outputs": [],
   "source": [
    "def svrg_cm(x_init, iis, grad, grad_i, hessian, hessian_i, n_iter, step, k=10, callback=None):\n",
    "    \"\"\"SVRG2 with Curvature Matching Hessian approximation\"\"\"\n",
    "    x = x_init.copy()\n",
    "    x_old = x.copy()\n",
    "    #d = x.shape[0]\n",
    "    S = np.random.randn(d, k) # S as random for the first iteration of the outer loop\n",
    "    ds = []\n",
    "    batch_size = np.int(n / k)\n",
    "    \n",
    "    for idx in range(n_iter):\n",
    "        \n",
    "        if idx % n == 0:\n",
    "            \n",
    "            for j in range(k):\n",
    "                S[j] = np.int(k / n) * np.sum(ds[j:j + batch_size]) # Update of S based on the T previous directions\n",
    "            ds = []\n",
    "            \n",
    "            mu = grad(x)\n",
    "            A = hessian(x).dot(S)\n",
    "            C = sqrtm(np.linalg.pinv(S.T.dot(A)))\n",
    "            S_bar = S.dot(C)\n",
    "            A_bar = A.dot(C)\n",
    "            x_old = x.copy()            \n",
    "        \n",
    "        i = iis[idx]\n",
    "        \n",
    "        prod1 = A_bar.dot(S_bar.T).dot(hessian_i(i, x_old)).dot(S_bar).dot(A_bar.T).dot(x - x_old)\n",
    "        prod2 = A_bar.dot(A_bar.T).dot(x - x_old)\n",
    "        dt = grad_i(i, x) - grad_i(i, x_old) + mu - prod1 + prod2\n",
    "        x -= step * dt\n",
    "        ds.append(dt)\n",
    "        \n",
    "        # Update metrics after each full pass on data.\n",
    "        if callback is not None and idx % n == 0:\n",
    "            callback(x)\n",
    "    return x"
   ]
  },
  {
   "cell_type": "markdown",
   "metadata": {},
   "source": [
    "### (d) Low rank approximation: Action Matching"
   ]
  },
  {
   "cell_type": "markdown",
   "metadata": {},
   "source": [
    "We implement the action matching algorithm. It writes:\n",
    "    \n",
    "Choose $\\bar{\\theta}_0 \\in \\mathbf{R}^d$ and step size $\\gamma > 0$\n",
    "For $k=0,...,K-1$:\n",
    "- Calculate $g(\\bar{\\theta}_k) = \\frac{1}{N} \\sum_{j=1}^N g_j(\\bar{\\theta}_k)$, $\\theta_0 = \\bar{\\theta}_k$\n",
    "- Calculate $A = \\frac{1}{N} \\sum_{j=1}^N H_j(\\bar{\\theta})S$, $C = (S^TA)^{\\dagger/2}$\n",
    "- Generate $S \\in \\mathbf{R}^{d \\times k}$, calculate $\\bar{S} = SC$\n",
    "- Normalize the Hessian action $\\bar{A} = AC$\n",
    "- For $t=0,...,T-1$:\n",
    "    - Pick i uniformly at random\n",
    "    - $d_t = g_i(\\theta_t) - g_i(\\bar{\\theta}_k) + g(\\bar{\\theta}_k) - \\left( \\bar{A}\\bar{S}^T H_i(\\bar{\\theta}_k) (I -\\bar{S} \\bar{A}^T) + H_i(\\bar{\\theta}_k) \\bar{S} \\bar{A}^T \\right) (\\theta_t - \\bar{\\theta}_k) + \\bar{A}\\bar{A}^T(\\theta_t - \\bar{\\theta}_k) $\n",
    "    - $\\theta_{t+1} = \\theta_t - \\gamma d_t$ \n",
    "- $\\bar{\\theta}_{k+1} = \\theta_T$\n",
    " \n",
    "Output $\\bar{\\theta}_K$"
   ]
  },
  {
   "cell_type": "code",
   "execution_count": 16,
   "metadata": {},
   "outputs": [],
   "source": [
    "def svrg_am(x_init, iis, grad, grad_i, hessian, hessian_i, n_iter, step, k=10, callback=None):\n",
    "    \"\"\"SVRG2 with Action Matching Hessian approximation\"\"\"\n",
    "    x = x_init.copy()\n",
    "    x_old = x.copy()\n",
    "    \n",
    "    S = np.random.randn(d, k)\n",
    "    ds = []\n",
    "    batch_size = np.int(n / k) \n",
    "    \n",
    "    for idx in range(n_iter):\n",
    "        \n",
    "        if idx % n == 0:\n",
    "            \n",
    "            for j in range(k):\n",
    "                S[j] = np.int(k / n) * np.sum(ds[j:j + batch_size])\n",
    "            ds = []\n",
    "            \n",
    "            mu = grad(x)\n",
    "            A = hessian(x).dot(S)\n",
    "            C = sqrtm(np.linalg.pinv(S.T.dot(A)))\n",
    "            S_bar = S.dot(C)\n",
    "            A_bar = A.dot(C)\n",
    "            x_old = x.copy()\n",
    "        \n",
    "        i = iis[idx]\n",
    "        \n",
    "        prod1 = (A_bar.dot(S_bar.T).dot(hessian_i(i, x_old)).dot(np.eye(d) - S_bar.dot(A_bar.T)) + \n",
    "                 hessian_i(i, x_old).dot(S_bar).dot(A_bar.T)).dot(x - x_old)\n",
    "        prod2 = A_bar.dot(A_bar.T).dot(x - x_old)\n",
    "        dt = grad_i(i, x) - grad_i(i, x_old) + mu - prod1 + prod2\n",
    "        x -= step * dt\n",
    "        ds.append(dt)\n",
    "        \n",
    "        # Update metrics after each full pass on data.\n",
    "        if callback is not None and idx % n == 0:\n",
    "            callback(x)\n",
    "    return x"
   ]
  },
  {
   "cell_type": "markdown",
   "metadata": {},
   "source": [
    "## 3. Plots"
   ]
  },
  {
   "cell_type": "markdown",
   "metadata": {},
   "source": [
    "### Choice of the model"
   ]
  },
  {
   "cell_type": "code",
   "execution_count": 17,
   "metadata": {},
   "outputs": [],
   "source": [
    "lbda = 1e-1\n",
    "model = LogReg(X_train, y_train, lbda) # LogReg or LinReg\n",
    "\n",
    "x_init = np.zeros(d)\n",
    "x_min, f_min, _ = fmin_l_bfgs_b(model.loss, x_init, model.grad, pgtol=1e-30, factr=1e-30)"
   ]
  },
  {
   "cell_type": "code",
   "execution_count": 18,
   "metadata": {},
   "outputs": [
    {
     "data": {
      "text/plain": [
       "0.6282872425478552"
      ]
     },
     "execution_count": 18,
     "metadata": {},
     "output_type": "execute_result"
    }
   ],
   "source": [
    "f_min"
   ]
  },
  {
   "cell_type": "markdown",
   "metadata": {},
   "source": [
    "**Choice of step size**: The article proposes a grid search trying values $2^a / L_{max}$, with $a$ depending on the problem."
   ]
  },
  {
   "cell_type": "code",
   "execution_count": 19,
   "metadata": {},
   "outputs": [],
   "source": [
    "a = 0\n",
    "Lmax = np.max(np.sum((model.A**2), axis=1)) + model.lbda\n",
    "step = 2 ** a / Lmax"
   ]
  },
  {
   "cell_type": "markdown",
   "metadata": {},
   "source": [
    "### (a) SVRG"
   ]
  },
  {
   "cell_type": "code",
   "execution_count": 20,
   "metadata": {},
   "outputs": [
    {
     "name": "stdout",
     "output_type": "stream",
     "text": [
      "   it    |   obj    |   err    |   time  \n",
      "       0 | 6.30e-02 | 8.17e-01 | 1.6001e-02\n",
      "      10 | 0.00e+00 | 3.07e-09 | 5.1603e-01\n",
      "      20 | 1.11e-16 | 3.09e-09 | 1.0091e+00\n",
      "      30 | 1.11e-16 | 3.09e-09 | 1.5011e+00\n",
      "      40 | 1.11e-16 | 3.09e-09 | 1.8931e+00\n"
     ]
    }
   ],
   "source": [
    "x_init = np.zeros(d)\n",
    "svrg_inspector = inspector(model.loss, x_min, verbose=True)    \n",
    "x_svrg = svrg(x_init, iis, model.grad, model.grad_i, n * n_iter, step, callback=svrg_inspector)"
   ]
  },
  {
   "cell_type": "markdown",
   "metadata": {},
   "source": [
    "### (b) SVRG2"
   ]
  },
  {
   "cell_type": "code",
   "execution_count": 21,
   "metadata": {},
   "outputs": [
    {
     "name": "stdout",
     "output_type": "stream",
     "text": [
      "   it    |   obj    |   err    |   time  \n",
      "       0 | 6.30e-02 | 8.17e-01 | 4.8003e-02\n",
      "      10 | 1.11e-16 | 3.09e-09 | 2.2431e+00\n",
      "      20 | 1.11e-16 | 3.09e-09 | 4.4243e+00\n",
      "      30 | 1.11e-16 | 3.09e-09 | 7.2374e+00\n",
      "      40 | 1.11e-16 | 3.09e-09 | 9.6766e+00\n"
     ]
    }
   ],
   "source": [
    "x_init = np.zeros(d)\n",
    "svrg2_inspector = inspector(model.loss, x_min, verbose=True)    \n",
    "x_svrg2 = svrg2(x_init, iis, model.grad, model.grad_i, model.hessian, model.hessian_i, n * n_iter, step, \n",
    "                callback=svrg2_inspector)"
   ]
  },
  {
   "cell_type": "markdown",
   "metadata": {},
   "source": [
    "### (c) Diagonal approximation"
   ]
  },
  {
   "cell_type": "code",
   "execution_count": 22,
   "metadata": {},
   "outputs": [
    {
     "name": "stdout",
     "output_type": "stream",
     "text": [
      "   it    |   obj    |   err    |   time  \n",
      "       0 | 6.30e-02 | 8.17e-01 | 2.6001e-02\n",
      "      10 | 3.07e-09 | 1.55e-04 | 1.5121e+00\n",
      "      20 | 5.55e-16 | 5.32e-08 | 2.9612e+00\n",
      "      30 | 1.11e-16 | 3.09e-09 | 4.4023e+00\n",
      "      40 | 1.11e-16 | 3.09e-09 | 5.8513e+00\n"
     ]
    }
   ],
   "source": [
    "x_init = np.zeros(d)\n",
    "svrg_diag_inspector = inspector(model.loss, x_min, verbose=True)    \n",
    "x_svrg_diag = svrg_diag(x_init, iis, model.grad, model.grad_i, model.hessian, model.hessian_i, \n",
    "                        model.diag_hessian_i, n * n_iter, step, sigma_sq=0.1, callback=svrg_diag_inspector)"
   ]
  },
  {
   "cell_type": "markdown",
   "metadata": {},
   "source": [
    "### (d) Low rank approximation: Curvature Matching"
   ]
  },
  {
   "cell_type": "code",
   "execution_count": 23,
   "metadata": {},
   "outputs": [
    {
     "name": "stdout",
     "output_type": "stream",
     "text": [
      "   it    |   obj    |   err    |   time  \n",
      "       0 | 6.30e-02 | 8.17e-01 | 2.9001e-02\n",
      "      10 | 1.11e-16 | 3.07e-09 | 4.8323e+00\n",
      "      20 | 1.11e-16 | 3.09e-09 | 9.8106e+00\n",
      "      30 | 1.11e-16 | 3.09e-09 | 1.4503e+01\n",
      "      40 | 1.11e-16 | 3.09e-09 | 1.9172e+01\n"
     ]
    }
   ],
   "source": [
    "x_init = np.zeros(d)\n",
    "svrg_cm_inspector = inspector(model.loss, x_min, verbose=True)    \n",
    "x_svrg_cm = svrg_cm(x_init, iis, model.grad, model.grad_i, model.hessian, model.hessian_i, n * n_iter, step, k=10, \n",
    "                callback=svrg_cm_inspector)"
   ]
  },
  {
   "cell_type": "markdown",
   "metadata": {},
   "source": [
    "### (e) Low rank approximation: Action Matching"
   ]
  },
  {
   "cell_type": "code",
   "execution_count": 24,
   "metadata": {},
   "outputs": [
    {
     "name": "stdout",
     "output_type": "stream",
     "text": [
      "   it    |   obj    |   err    |   time  \n",
      "       0 | 6.30e-02 | 8.17e-01 | 3.9002e-02\n",
      "      10 | 0.00e+00 | 3.09e-09 | 1.1034e+01\n",
      "      20 | 1.11e-16 | 3.09e-09 | 2.1926e+01\n",
      "      30 | 1.11e-16 | 3.09e-09 | 3.4066e+01\n",
      "      40 | 1.11e-16 | 3.09e-09 | 4.5001e+01\n"
     ]
    }
   ],
   "source": [
    "x_init = np.zeros(d)\n",
    "svrg_am_inspector = inspector(model.loss, x_min, verbose=True)    \n",
    "x_svrg_am = svrg_am(x_init, iis, model.grad, model.grad_i, model.hessian, model.hessian_i, n * n_iter, step, k=10, \n",
    "                callback=svrg_am_inspector)"
   ]
  },
  {
   "cell_type": "markdown",
   "metadata": {},
   "source": [
    "### Plots"
   ]
  },
  {
   "cell_type": "code",
   "execution_count": 25,
   "metadata": {},
   "outputs": [
    {
     "data": {
      "text/plain": [
       "Text(0.5,0.98,'Logistic regression with $\\\\lambda$ = 0.1')"
      ]
     },
     "execution_count": 25,
     "metadata": {},
     "output_type": "execute_result"
    },
    {
     "data": {
      "image/png": "[encoded data removed]",
      "text/plain": [
       "<matplotlib.figure.Figure at 0x18ab8160>"
      ]
     },
     "metadata": {},
     "output_type": "display_data"
    }
   ],
   "source": [
    "inspectors = [svrg_inspector, svrg2_inspector, svrg_diag_inspector, svrg_cm_inspector, svrg_am_inspector]\n",
    "solvers = [\"SVRG\", \"SVRG2\", \"Diagonal\", \"Curvature Matching\", \"Action Matching\"]\n",
    "\n",
    "plt.figure(figsize=(20, 5))\n",
    "\n",
    "plt.subplot(1, 3, 1)\n",
    "\n",
    "for insp in inspectors:\n",
    "    plt.semilogy(insp.obj, lw=2)\n",
    "    plt.title(\"Loss\", fontsize=14)\n",
    "    plt.xlabel(\"Epoch\", fontsize=14)\n",
    "    plt.ylabel(\"$f(x_k) - f(x^*)$\", fontsize=14)\n",
    "    plt.ylim(1e-16, 0.1)\n",
    "\n",
    "plt.legend(solvers)\n",
    "\n",
    "plt.subplot(1, 3, 2)\n",
    "\n",
    "for insp in inspectors:\n",
    "    plt.semilogy(insp.err, lw=2)\n",
    "    plt.title(\"Distance to optimum\", fontsize=14)\n",
    "    plt.xlabel(\"Epoch\", fontsize=14)\n",
    "    plt.ylabel(\"$||x_k - x^*||_2$\", fontsize=14)\n",
    "    \n",
    "plt.legend(solvers)\n",
    "    \n",
    "plt.subplot(1, 3, 3)\n",
    "\n",
    "for insp in inspectors:\n",
    "    plt.semilogy(insp.timing, lw=2)\n",
    "    plt.title(\"Time\", fontsize=14)\n",
    "    plt.xlabel(\"Epoch\", fontsize=14)\n",
    "    plt.ylabel(\"Seconds\", fontsize=14)    \n",
    "\n",
    "plt.legend(solvers)\n",
    "\n",
    "plt.suptitle(\"{} with $\\lambda$ = {}\".format(model.name, lbda), fontsize=20)"
   ]
  },
  {
   "cell_type": "markdown",
   "metadata": {},
   "source": [
    "**Comments**\n",
    "\n",
    "- **SVRG vs SVRG2**: SVRG2 converges faster than SVRG in terms of iterations, as each control variate depends on the previous iteration of the inner loop, contrary to SVRG where the control variates are updated only at each iteration of the outer loop. Moreover, this characteristic of SVRG2 robustifies the algorithm to the choice of step size. However, computing the full Hessian at each iteration of the outer loop induces a computational cost, which is why SVRG2 is slower than SVRG in terms of time. It also induces a large storage cost.\n",
    "- **Diagonal approximation**: This approximation enables to speed up SVRG2 (in terms of seconds per iteration) as it induces a smaller computational cost. The convergence is however slower is terms of iterations. It reduces the storage cost compared to SVRG2.\n",
    "- **Curvature and Action Matching approximations**: These approximtions have the same convergence speed in terms of iterations as SVRG. They are however definitely slower in tems of time, because of the high computational cost (which could be reduced by using automatic differenciation). It reduces the storage cost compared to SVRG2.\n",
    "\n",
    "On most problems, SVRG seems to be the best solution."
   ]
  }
 ],
 "metadata": {
  "kernelspec": {
   "display_name": "Python 3",
   "language": "python",
   "name": "python3"
  },
  "language_info": {
   "codemirror_mode": {
    "name": "ipython",
    "version": 3
   },
   "file_extension": ".py",
   "mimetype": "text/x-python",
   "name": "python",
   "nbconvert_exporter": "python",
   "pygments_lexer": "ipython3",
   "version": "3.5.4"
  }
 },
 "nbformat": 4,
 "nbformat_minor": 2
}
